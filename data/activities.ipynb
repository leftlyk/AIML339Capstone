{
 "cells": [
  {
   "cell_type": "code",
   "execution_count": null,
   "id": "f1058013",
   "metadata": {},
   "outputs": [
    {
     "name": "stdout",
     "output_type": "stream",
     "text": [
      "Standing 1253\n",
      "Sitting: 1013\n"
     ]
    }
   ],
   "source": [
    "import scipy.io\n",
    "from collections import Counter\n",
    "\n",
    "# Path to the MPII MATLAB annotations file\n",
    "mat_file = \"mpii/mpii_annotations.mat\"\n",
    "\n",
    "# Load the .mat file\n",
    "data = scipy.io.loadmat(mat_file, squeeze_me=True, struct_as_record=False)\n",
    "release = data['RELEASE']\n",
    "\n",
    "activities = []\n",
    "# Ensure act is iterable\n",
    "act_array = release.act\n",
    "if not isinstance(act_array, (list, tuple)):\n",
    "    act_array = act_array.tolist()  # convert ndarray to list\n",
    "\n",
    "sitting = 0\n",
    "standing = 0\n",
    "\n",
    "for act_entry in act_array:\n",
    "    if act_entry is not None and hasattr(act_entry, 'act_name'):\n",
    "        if  'sitting' in act_entry.act_name:\n",
    "            sitting +=1\n",
    "        elif 'standing' in act_entry.act_name:\n",
    "            standing +=1\n",
    "\n",
    "print(f'Standing {standing}')\n",
    "print(f'Sitting: {sitting}')\n"
   ]
  },
  {
   "cell_type": "code",
   "execution_count": null,
   "id": "971fa291",
   "metadata": {},
   "outputs": [],
   "source": []
  }
 ],
 "metadata": {
  "kernelspec": {
   "display_name": "capstone_env",
   "language": "python",
   "name": "python3"
  },
  "language_info": {
   "codemirror_mode": {
    "name": "ipython",
    "version": 3
   },
   "file_extension": ".py",
   "mimetype": "text/x-python",
   "name": "python",
   "nbconvert_exporter": "python",
   "pygments_lexer": "ipython3",
   "version": "3.10.18"
  }
 },
 "nbformat": 4,
 "nbformat_minor": 5
}
