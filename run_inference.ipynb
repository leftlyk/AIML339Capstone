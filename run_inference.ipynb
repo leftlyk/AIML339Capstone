{
 "cells": [
  {
   "cell_type": "code",
   "execution_count": 4,
   "id": "34be3d4e",
   "metadata": {},
   "outputs": [],
   "source": [
    "import torch\n",
    "from torch.utils.data import Dataset, DataLoader\n",
    "from utils.losses import heatmap_mse_loss\n",
    "from utils.pckh import compute_pckh\n",
    "from utils.heatmaps import heatmaps_to_coords\n",
    "from utils.visualisations import visualize_batch_predictions\n",
    "from data.mpii_dataset import MPIIDataset\n",
    "from models.model import ViTPoseHeatmap"
   ]
  },
  {
   "cell_type": "code",
   "execution_count": 5,
   "id": "ed2e6ef6",
   "metadata": {},
   "outputs": [
    {
     "name": "stdout",
     "output_type": "stream",
     "text": [
      "✅ Test Loss: 0.0013, PCKh@0.5: 0.8955\n"
     ]
    },
    {
     "ename": "TypeError",
     "evalue": "heatmaps_to_coords() got an unexpected keyword argument 'img_size'",
     "output_type": "error",
     "traceback": [
      "\u001b[0;31m---------------------------------------------------------------------------\u001b[0m",
      "\u001b[0;31mTypeError\u001b[0m                                 Traceback (most recent call last)",
      "Cell \u001b[0;32mIn[5], line 66\u001b[0m\n\u001b[1;32m     63\u001b[0m test_dataset \u001b[38;5;241m=\u001b[39m MPIIDataset(\u001b[38;5;124m'\u001b[39m\u001b[38;5;124mdata/annotations/test_annotations.json\u001b[39m\u001b[38;5;124m'\u001b[39m, \u001b[38;5;124m'\u001b[39m\u001b[38;5;124mdata/cropped_persons\u001b[39m\u001b[38;5;124m'\u001b[39m)\n\u001b[1;32m     64\u001b[0m test_loader \u001b[38;5;241m=\u001b[39m DataLoader(test_dataset, batch_size\u001b[38;5;241m=\u001b[39m\u001b[38;5;241m8\u001b[39m, shuffle\u001b[38;5;241m=\u001b[39m\u001b[38;5;28;01mTrue\u001b[39;00m, num_workers\u001b[38;5;241m=\u001b[39m\u001b[38;5;241m1\u001b[39m)\n\u001b[0;32m---> 66\u001b[0m \u001b[43mtest_model\u001b[49m\u001b[43m(\u001b[49m\u001b[43mmodel\u001b[49m\u001b[43m,\u001b[49m\u001b[43m \u001b[49m\u001b[43mtest_loader\u001b[49m\u001b[43m,\u001b[49m\u001b[43m \u001b[49m\u001b[43mdevice\u001b[49m\u001b[38;5;241;43m=\u001b[39;49m\u001b[43mdevice\u001b[49m\u001b[43m,\u001b[49m\u001b[43m \u001b[49m\u001b[43mimg_size\u001b[49m\u001b[38;5;241;43m=\u001b[39;49m\u001b[38;5;241;43m224\u001b[39;49m\u001b[43m,\u001b[49m\u001b[43m \u001b[49m\u001b[43mstate_dict_url\u001b[49m\u001b[38;5;241;43m=\u001b[39;49m\u001b[38;5;124;43m'\u001b[39;49m\u001b[38;5;124;43mhttps://huggingface.co/shai-hulud/AIML339Capstone/resolve/main/vit_heatmap_small.pth\u001b[39;49m\u001b[38;5;124;43m'\u001b[39;49m\u001b[43m)\u001b[49m\n",
      "Cell \u001b[0;32mIn[5], line 52\u001b[0m, in \u001b[0;36mtest_model\u001b[0;34m(model, test_loader, device, img_size, state_dict_url)\u001b[0m\n\u001b[1;32m     49\u001b[0m \u001b[38;5;28mprint\u001b[39m(\u001b[38;5;124mf\u001b[39m\u001b[38;5;124m\"\u001b[39m\u001b[38;5;124m✅ Test Loss: \u001b[39m\u001b[38;5;132;01m{\u001b[39;00mtest_loss\u001b[38;5;132;01m:\u001b[39;00m\u001b[38;5;124m.4f\u001b[39m\u001b[38;5;132;01m}\u001b[39;00m\u001b[38;5;124m, PCKh@0.5: \u001b[39m\u001b[38;5;132;01m{\u001b[39;00mpckh\u001b[38;5;132;01m:\u001b[39;00m\u001b[38;5;124m.4f\u001b[39m\u001b[38;5;132;01m}\u001b[39;00m\u001b[38;5;124m\"\u001b[39m)\n\u001b[1;32m     51\u001b[0m \u001b[38;5;66;03m# visualize a few predictions\u001b[39;00m\n\u001b[0;32m---> 52\u001b[0m \u001b[43mvisualize_batch_predictions\u001b[49m\u001b[43m(\u001b[49m\u001b[43mmodel\u001b[49m\u001b[43m,\u001b[49m\u001b[43m \u001b[49m\u001b[43mtest_loader\u001b[49m\u001b[43m,\u001b[49m\u001b[43m \u001b[49m\u001b[43mdevice\u001b[49m\u001b[38;5;241;43m=\u001b[39;49m\u001b[43mdevice\u001b[49m\u001b[43m,\u001b[49m\u001b[43m \u001b[49m\u001b[43mimg_size\u001b[49m\u001b[38;5;241;43m=\u001b[39;49m\u001b[43mimg_size\u001b[49m\u001b[43m,\u001b[49m\u001b[43m \u001b[49m\u001b[43mn_samples\u001b[49m\u001b[38;5;241;43m=\u001b[39;49m\u001b[38;5;241;43m3\u001b[39;49m\u001b[43m)\u001b[49m\n\u001b[1;32m     54\u001b[0m \u001b[38;5;28;01mreturn\u001b[39;00m test_loss, pckh\n",
      "File \u001b[0;32m~/Desktop/AIML339/Capstone/AIML339Capstone/utils/visualisations.py:116\u001b[0m, in \u001b[0;36mvisualize_batch_predictions\u001b[0;34m(model, loader, device, img_size, n_samples)\u001b[0m\n\u001b[1;32m    114\u001b[0m \u001b[38;5;66;03m# predict\u001b[39;00m\n\u001b[1;32m    115\u001b[0m pred_hmaps \u001b[38;5;241m=\u001b[39m model(imgs)\n\u001b[0;32m--> 116\u001b[0m pred_coords \u001b[38;5;241m=\u001b[39m \u001b[43mheatmaps_to_coords\u001b[49m\u001b[43m(\u001b[49m\u001b[43mpred_hmaps\u001b[49m\u001b[43m,\u001b[49m\u001b[43m \u001b[49m\u001b[43mimg_size\u001b[49m\u001b[38;5;241;43m=\u001b[39;49m\u001b[43mimg_size\u001b[49m\u001b[43m)\u001b[49m\u001b[38;5;241m.\u001b[39mcpu()\u001b[38;5;241m.\u001b[39mnumpy() \u001b[38;5;241m*\u001b[39m img_size\n\u001b[1;32m    118\u001b[0m imgs \u001b[38;5;241m=\u001b[39m imgs\u001b[38;5;241m.\u001b[39mcpu()\u001b[38;5;241m.\u001b[39mpermute(\u001b[38;5;241m0\u001b[39m,\u001b[38;5;241m2\u001b[39m,\u001b[38;5;241m3\u001b[39m,\u001b[38;5;241m1\u001b[39m)\u001b[38;5;241m.\u001b[39mnumpy()\n\u001b[1;32m    120\u001b[0m \u001b[38;5;28;01mfor\u001b[39;00m i \u001b[38;5;129;01min\u001b[39;00m \u001b[38;5;28mrange\u001b[39m(n_samples):\n",
      "\u001b[0;31mTypeError\u001b[0m: heatmaps_to_coords() got an unexpected keyword argument 'img_size'"
     ]
    }
   ],
   "source": [
    "def test_model(model, test_loader, device='cuda', img_size=224, state_dict_url=\"best_model.pth\"):\n",
    "    # Load checkpoint\n",
    "    state_dict = torch.hub.load_state_dict_from_url(state_dict_url, map_location=torch.device('cpu'))\n",
    "\n",
    "    # 🔧 Auto-handle DataParallel \"module.\" prefixes\n",
    "    from collections import OrderedDict\n",
    "    new_state_dict = OrderedDict()\n",
    "    for k, v in state_dict.items():\n",
    "        new_state_dict[k.replace(\"module.\", \"\")] = v\n",
    "\n",
    "    model = model.to(device)\n",
    "    model.load_state_dict(new_state_dict, strict=False)\n",
    "    model.eval()\n",
    "\n",
    "    all_preds, all_targets, all_vis = [], [], []\n",
    "    test_loss = 0.0\n",
    "\n",
    "    with torch.no_grad():\n",
    "        for batch in test_loader:\n",
    "            imgs = batch['image'].to(device)\n",
    "            hmaps = batch['heatmaps'].to(device)\n",
    "            joints = batch['joints'].to(device)\n",
    "            vis = batch['visibility'].to(device)\n",
    "\n",
    "            pred = model(imgs)\n",
    "\n",
    "            # loss\n",
    "            test_loss += heatmap_mse_loss(pred, hmaps).item()\n",
    "\n",
    "            # decode coords\n",
    "            coords = heatmaps_to_coords(pred)\n",
    "\n",
    "            all_preds.append(coords * img_size)   # back to pixel space\n",
    "            all_targets.append(joints * img_size)\n",
    "            all_vis.append(vis)\n",
    "\n",
    "    # aggregate\n",
    "    all_preds_t = torch.cat(all_preds, dim=0)\n",
    "    all_targets_t = torch.cat(all_targets, dim=0)\n",
    "    all_vis_t = torch.cat(all_vis, dim=0)\n",
    "\n",
    "    # compute PCKh\n",
    "    all_preds_np = all_preds_t.cpu().numpy()\n",
    "    all_targets_np = all_targets_t.cpu().numpy()\n",
    "    all_vis_np = all_vis_t.cpu().numpy()\n",
    "    pckh = compute_pckh(all_preds_np, all_targets_np, all_vis_np)\n",
    "\n",
    "    test_loss /= len(test_loader)\n",
    "    print(f\"✅ Test Loss: {test_loss:.4f}, PCKh@0.5: {pckh:.4f}\")\n",
    "\n",
    "    # visualize a few predictions\n",
    "    visualize_batch_predictions(model, test_loader, device=device, img_size=img_size, n_samples=3)\n",
    "\n",
    "    return test_loss, pckh\n",
    "\n",
    "\n",
    "device = \"cuda\" if torch.cuda.is_available() else \"cpu\"\n",
    "\n",
    "model = ViTPoseHeatmap(vit_name=\"vit_small_patch16_224\")\n",
    "\n",
    "model = model.to(device)\n",
    "\n",
    "test_dataset = MPIIDataset('data/annotations/test_annotations.json', 'data/cropped_persons')\n",
    "test_loader = DataLoader(test_dataset, batch_size=8, shuffle=True, num_workers=1)\n",
    "\n",
    "test_model(model, test_loader, device=device, img_size=224, state_dict_url='https://huggingface.co/shai-hulud/AIML339Capstone/resolve/main/vit_heatmap_small.pth')"
   ]
  },
  {
   "cell_type": "code",
   "execution_count": null,
   "id": "53afe10f",
   "metadata": {},
   "outputs": [],
   "source": []
  }
 ],
 "metadata": {
  "kernelspec": {
   "display_name": "capstone_env",
   "language": "python",
   "name": "python3"
  },
  "language_info": {
   "codemirror_mode": {
    "name": "ipython",
    "version": 3
   },
   "file_extension": ".py",
   "mimetype": "text/x-python",
   "name": "python",
   "nbconvert_exporter": "python",
   "pygments_lexer": "ipython3",
   "version": "3.11.13"
  }
 },
 "nbformat": 4,
 "nbformat_minor": 5
}
